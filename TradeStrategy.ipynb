{
 "cells": [
  {
   "cell_type": "code",
   "execution_count": 10,
   "metadata": {},
   "outputs": [],
   "source": [
    "import pandas as pd\n",
    "import matplotlib.pyplot as plt\n",
    "%matplotlib inline"
   ]
  },
  {
   "cell_type": "code",
   "execution_count": 11,
   "metadata": {},
   "outputs": [
    {
     "data": {
      "text/html": [
       "<div>\n",
       "<style scoped>\n",
       "    .dataframe tbody tr th:only-of-type {\n",
       "        vertical-align: middle;\n",
       "    }\n",
       "\n",
       "    .dataframe tbody tr th {\n",
       "        vertical-align: top;\n",
       "    }\n",
       "\n",
       "    .dataframe thead th {\n",
       "        text-align: right;\n",
       "    }\n",
       "</style>\n",
       "<table border=\"1\" class=\"dataframe\">\n",
       "  <thead>\n",
       "    <tr style=\"text-align: right;\">\n",
       "      <th></th>\n",
       "      <th>Open</th>\n",
       "      <th>High</th>\n",
       "      <th>Low</th>\n",
       "      <th>Close</th>\n",
       "      <th>Adj Close</th>\n",
       "      <th>Volume</th>\n",
       "      <th>MA10</th>\n",
       "      <th>MA50</th>\n",
       "    </tr>\n",
       "    <tr>\n",
       "      <th>Date</th>\n",
       "      <th></th>\n",
       "      <th></th>\n",
       "      <th></th>\n",
       "      <th></th>\n",
       "      <th></th>\n",
       "      <th></th>\n",
       "      <th></th>\n",
       "      <th></th>\n",
       "    </tr>\n",
       "  </thead>\n",
       "  <tbody>\n",
       "    <tr>\n",
       "      <td>2015-03-13</td>\n",
       "      <td>22.559999</td>\n",
       "      <td>22.760000</td>\n",
       "      <td>22.250000</td>\n",
       "      <td>22.700001</td>\n",
       "      <td>22.116024</td>\n",
       "      <td>8982200</td>\n",
       "      <td>22.648</td>\n",
       "      <td>21.0174</td>\n",
       "    </tr>\n",
       "    <tr>\n",
       "      <td>2015-03-16</td>\n",
       "      <td>22.879999</td>\n",
       "      <td>23.110001</td>\n",
       "      <td>22.730000</td>\n",
       "      <td>22.969999</td>\n",
       "      <td>22.379078</td>\n",
       "      <td>5923900</td>\n",
       "      <td>22.685</td>\n",
       "      <td>21.0758</td>\n",
       "    </tr>\n",
       "    <tr>\n",
       "      <td>2015-03-17</td>\n",
       "      <td>22.920000</td>\n",
       "      <td>23.260000</td>\n",
       "      <td>22.760000</td>\n",
       "      <td>23.250000</td>\n",
       "      <td>22.651876</td>\n",
       "      <td>7497500</td>\n",
       "      <td>22.792</td>\n",
       "      <td>21.1382</td>\n",
       "    </tr>\n",
       "    <tr>\n",
       "      <td>2015-03-18</td>\n",
       "      <td>23.250000</td>\n",
       "      <td>23.370001</td>\n",
       "      <td>22.660000</td>\n",
       "      <td>22.870001</td>\n",
       "      <td>22.281652</td>\n",
       "      <td>10337600</td>\n",
       "      <td>22.836</td>\n",
       "      <td>21.1998</td>\n",
       "    </tr>\n",
       "    <tr>\n",
       "      <td>2015-03-19</td>\n",
       "      <td>22.950001</td>\n",
       "      <td>23.299999</td>\n",
       "      <td>22.780001</td>\n",
       "      <td>23.219999</td>\n",
       "      <td>22.622650</td>\n",
       "      <td>7768900</td>\n",
       "      <td>22.872</td>\n",
       "      <td>21.2804</td>\n",
       "    </tr>\n",
       "  </tbody>\n",
       "</table>\n",
       "</div>"
      ],
      "text/plain": [
       "                 Open       High        Low      Close  Adj Close    Volume  \\\n",
       "Date                                                                          \n",
       "2015-03-13  22.559999  22.760000  22.250000  22.700001  22.116024   8982200   \n",
       "2015-03-16  22.879999  23.110001  22.730000  22.969999  22.379078   5923900   \n",
       "2015-03-17  22.920000  23.260000  22.760000  23.250000  22.651876   7497500   \n",
       "2015-03-18  23.250000  23.370001  22.660000  22.870001  22.281652  10337600   \n",
       "2015-03-19  22.950001  23.299999  22.780001  23.219999  22.622650   7768900   \n",
       "\n",
       "              MA10     MA50  \n",
       "Date                         \n",
       "2015-03-13  22.648  21.0174  \n",
       "2015-03-16  22.685  21.0758  \n",
       "2015-03-17  22.792  21.1382  \n",
       "2015-03-18  22.836  21.1998  \n",
       "2015-03-19  22.872  21.2804  "
      ]
     },
     "execution_count": 11,
     "metadata": {},
     "output_type": "execute_result"
    }
   ],
   "source": [
    "#Create short and long moving average : MA10 and MA50\n",
    "#use dropna to remove any \"Not a Number\" data\n",
    "fb = pd.read_csv('data/facebook.csv',index_col = 'Date')\n",
    "fb['MA10'] = fb['Close'].rolling(10).mean()\n",
    "fb['MA50'] = fb['Close'].rolling(50).mean()\n",
    "fb = fb.dropna()\n",
    "fb.head()"
   ]
  },
  {
   "cell_type": "code",
   "execution_count": 12,
   "metadata": {},
   "outputs": [],
   "source": [
    "#Add a new column \"Shares\", if MA10>MA50, denote as 1 (long one share of stock), otherwise, denote as 0 (do nothing)\n",
    "fb['Shares'] = [1 if fb.loc[ei, 'MA10']>fb.loc[ei, 'MA50'] else 0 for ei in fb.index]"
   ]
  },
  {
   "cell_type": "code",
   "execution_count": 13,
   "metadata": {},
   "outputs": [
    {
     "data": {
      "text/plain": [
       "<matplotlib.legend.Legend at 0x123ed4190>"
      ]
     },
     "execution_count": 13,
     "metadata": {},
     "output_type": "execute_result"
    },
    {
     "data": {
      "image/png": "[encoded data removed]",
      "text/plain": [
       "<Figure size 576x360 with 1 Axes>"
      ]
     },
     "metadata": {
      "needs_background": "light"
     },
     "output_type": "display_data"
    }
   ],
   "source": [
    "#Add a new column \"Profit\" using List Comprehension, for any rows in fb, if Shares=1, the profit is calculated \n",
    "#as the close price of tomorrow - the close price of today. Otherwise the profit is 0.\n",
    "fb['Close1'] = fb['Close'].shift(-1)\n",
    "fb['Profit'] = [fb.loc[ei, 'Close1'] - fb.loc[ei, 'Close'] if fb.loc[ei, 'Shares']==1 else 0 for ei in fb.index]\n",
    "fb['Profit'].plot(color='darkgreen',figsize=(8,5))\n",
    "plt.axhline(y=0, color='red')\n",
    "plt.legend(loc='upper left')"
   ]
  },
  {
   "cell_type": "code",
   "execution_count": 14,
   "metadata": {},
   "outputs": [
    {
     "data": {
      "text/plain": [
       "Text(0.5, 1.0, 'Total money you win is 145.72000500000001')"
      ]
     },
     "execution_count": 14,
     "metadata": {},
     "output_type": "execute_result"
    },
    {
     "data": {
      "image/png": "[encoded data removed]",
      "text/plain": [
       "<Figure size 576x360 with 1 Axes>"
      ]
     },
     "metadata": {
      "needs_background": "light"
     },
     "output_type": "display_data"
    }
   ],
   "source": [
    "#Calculate the accumulated wealth over the period and plot the wealth to show the growth of profit over the period\n",
    "fb['wealth'] = fb['Profit'].cumsum()\n",
    "fb['wealth'].plot(figsize=(8,5))\n",
    "plt.title('Total money you win is {}'.format(fb.loc[fb.index[-2], 'wealth']))"
   ]
  },
  {
   "cell_type": "code",
   "execution_count": 15,
   "metadata": {},
   "outputs": [],
   "source": [
    "#Load information again\n",
    "fb = pd.read_csv('data/facebook.csv',index_col = 'Date')\n",
    "\n",
    "#Create a new column Price Difference and Return\n",
    "fb['PriceDiff'] = fb['Close'].shift(-1) - fb['Close']\n",
    "fb['Return'] = fb['PriceDiff'] /fb['Close']"
   ]
  },
  {
   "cell_type": "code",
   "execution_count": 16,
   "metadata": {},
   "outputs": [],
   "source": [
    "#Create column Direction that represents 1 if the price difference is larger than 0 and o otherwise\n",
    "fb['Direction'] = [1 if fb['PriceDiff'].loc[ei] > 0 else 0 for ei in fb.index ]"
   ]
  },
  {
   "cell_type": "code",
   "execution_count": 17,
   "metadata": {},
   "outputs": [
    {
     "name": "stdout",
     "output_type": "stream",
     "text": [
      "Price difference on 2015-01-05 is -0.6000000000000014. direction is 0\n"
     ]
    }
   ],
   "source": [
    "#Price difference on 2015-01-05\n",
    "print('Price difference on {} is {}. direction is {}'.\n",
    "      format('2015-01-05', fb['PriceDiff'].loc['2015-01-05'], fb['Direction'].loc['2015-01-05']))"
   ]
  },
  {
   "cell_type": "code",
   "execution_count": 18,
   "metadata": {},
   "outputs": [
    {
     "data": {
      "image/png": "[encoded data removed]",
      "text/plain": [
       "<Figure size 576x360 with 1 Axes>"
      ]
     },
     "metadata": {
      "needs_background": "light"
     },
     "output_type": "display_data"
    }
   ],
   "source": [
    "# Use .rolling() to calculate any numbers of days' Moving Average. \n",
    "fb['ma50'] = fb['Close'].rolling(50).mean()\n",
    "\n",
    "#Plot the moving average\n",
    "plt.figure(figsize=(8, 5))\n",
    "fb['ma50'].loc['2015-01-05':'2015-12-31'].plot(label='MA50')\n",
    "fb['Close'].loc['2015-01-01':'2015-12-31'].plot(label='Close')\n",
    "plt.legend()\n",
    "plt.show()"
   ]
  },
  {
   "cell_type": "code",
   "execution_count": 21,
   "metadata": {},
   "outputs": [
    {
     "data": {
      "text/html": [
       "<div>\n",
       "<style scoped>\n",
       "    .dataframe tbody tr th:only-of-type {\n",
       "        vertical-align: middle;\n",
       "    }\n",
       "\n",
       "    .dataframe tbody tr th {\n",
       "        vertical-align: top;\n",
       "    }\n",
       "\n",
       "    .dataframe thead th {\n",
       "        text-align: right;\n",
       "    }\n",
       "</style>\n",
       "<table border=\"1\" class=\"dataframe\">\n",
       "  <thead>\n",
       "    <tr style=\"text-align: right;\">\n",
       "      <th></th>\n",
       "      <th>Open</th>\n",
       "      <th>High</th>\n",
       "      <th>Low</th>\n",
       "      <th>Close</th>\n",
       "      <th>Adj Close</th>\n",
       "      <th>Volume</th>\n",
       "      <th>MA10</th>\n",
       "      <th>MA50</th>\n",
       "      <th>Shares</th>\n",
       "      <th>Close1</th>\n",
       "      <th>Profit</th>\n",
       "      <th>wealth</th>\n",
       "      <th>PriceDiff</th>\n",
       "      <th>Return</th>\n",
       "      <th>Direction</th>\n",
       "    </tr>\n",
       "    <tr>\n",
       "      <th>Date</th>\n",
       "      <th></th>\n",
       "      <th></th>\n",
       "      <th></th>\n",
       "      <th></th>\n",
       "      <th></th>\n",
       "      <th></th>\n",
       "      <th></th>\n",
       "      <th></th>\n",
       "      <th></th>\n",
       "      <th></th>\n",
       "      <th></th>\n",
       "      <th></th>\n",
       "      <th></th>\n",
       "      <th></th>\n",
       "      <th></th>\n",
       "    </tr>\n",
       "  </thead>\n",
       "  <tbody>\n",
       "    <tr>\n",
       "      <td>2015-03-13</td>\n",
       "      <td>78.599998</td>\n",
       "      <td>79.379997</td>\n",
       "      <td>77.680000</td>\n",
       "      <td>78.050003</td>\n",
       "      <td>78.050003</td>\n",
       "      <td>18557300</td>\n",
       "      <td>79.301001</td>\n",
       "      <td>77.3506</td>\n",
       "      <td>1</td>\n",
       "      <td>78.070000</td>\n",
       "      <td>0.019997</td>\n",
       "      <td>0.019997</td>\n",
       "      <td>0.019997</td>\n",
       "      <td>0.000256</td>\n",
       "      <td>1</td>\n",
       "    </tr>\n",
       "    <tr>\n",
       "      <td>2015-03-16</td>\n",
       "      <td>77.959999</td>\n",
       "      <td>78.120003</td>\n",
       "      <td>77.360001</td>\n",
       "      <td>78.070000</td>\n",
       "      <td>78.070000</td>\n",
       "      <td>19305400</td>\n",
       "      <td>79.133001</td>\n",
       "      <td>77.3516</td>\n",
       "      <td>1</td>\n",
       "      <td>79.360001</td>\n",
       "      <td>1.290001</td>\n",
       "      <td>1.309998</td>\n",
       "      <td>1.290001</td>\n",
       "      <td>0.016524</td>\n",
       "      <td>1</td>\n",
       "    </tr>\n",
       "    <tr>\n",
       "      <td>2015-03-17</td>\n",
       "      <td>78.360001</td>\n",
       "      <td>79.779999</td>\n",
       "      <td>78.339996</td>\n",
       "      <td>79.360001</td>\n",
       "      <td>79.360001</td>\n",
       "      <td>22170000</td>\n",
       "      <td>79.109001</td>\n",
       "      <td>77.3698</td>\n",
       "      <td>1</td>\n",
       "      <td>80.910004</td>\n",
       "      <td>1.550003</td>\n",
       "      <td>2.860001</td>\n",
       "      <td>1.550003</td>\n",
       "      <td>0.019531</td>\n",
       "      <td>1</td>\n",
       "    </tr>\n",
       "    <tr>\n",
       "      <td>2015-03-18</td>\n",
       "      <td>79.250000</td>\n",
       "      <td>81.239998</td>\n",
       "      <td>79.169998</td>\n",
       "      <td>80.910004</td>\n",
       "      <td>80.910004</td>\n",
       "      <td>36912400</td>\n",
       "      <td>79.110001</td>\n",
       "      <td>77.4442</td>\n",
       "      <td>1</td>\n",
       "      <td>82.750000</td>\n",
       "      <td>1.839996</td>\n",
       "      <td>4.699997</td>\n",
       "      <td>1.839996</td>\n",
       "      <td>0.022741</td>\n",
       "      <td>1</td>\n",
       "    </tr>\n",
       "    <tr>\n",
       "      <td>2015-03-19</td>\n",
       "      <td>81.120003</td>\n",
       "      <td>83.000000</td>\n",
       "      <td>81.000000</td>\n",
       "      <td>82.750000</td>\n",
       "      <td>82.750000</td>\n",
       "      <td>42099500</td>\n",
       "      <td>79.264001</td>\n",
       "      <td>77.5762</td>\n",
       "      <td>1</td>\n",
       "      <td>83.800003</td>\n",
       "      <td>1.050003</td>\n",
       "      <td>5.750000</td>\n",
       "      <td>1.050003</td>\n",
       "      <td>0.012689</td>\n",
       "      <td>1</td>\n",
       "    </tr>\n",
       "  </tbody>\n",
       "</table>\n",
       "</div>"
      ],
      "text/plain": [
       "                 Open       High        Low      Close  Adj Close    Volume  \\\n",
       "Date                                                                          \n",
       "2015-03-13  78.599998  79.379997  77.680000  78.050003  78.050003  18557300   \n",
       "2015-03-16  77.959999  78.120003  77.360001  78.070000  78.070000  19305400   \n",
       "2015-03-17  78.360001  79.779999  78.339996  79.360001  79.360001  22170000   \n",
       "2015-03-18  79.250000  81.239998  79.169998  80.910004  80.910004  36912400   \n",
       "2015-03-19  81.120003  83.000000  81.000000  82.750000  82.750000  42099500   \n",
       "\n",
       "                 MA10     MA50  Shares     Close1    Profit    wealth  \\\n",
       "Date                                                                    \n",
       "2015-03-13  79.301001  77.3506       1  78.070000  0.019997  0.019997   \n",
       "2015-03-16  79.133001  77.3516       1  79.360001  1.290001  1.309998   \n",
       "2015-03-17  79.109001  77.3698       1  80.910004  1.550003  2.860001   \n",
       "2015-03-18  79.110001  77.4442       1  82.750000  1.839996  4.699997   \n",
       "2015-03-19  79.264001  77.5762       1  83.800003  1.050003  5.750000   \n",
       "\n",
       "            PriceDiff    Return  Direction  \n",
       "Date                                        \n",
       "2015-03-13   0.019997  0.000256          1  \n",
       "2015-03-16   1.290001  0.016524          1  \n",
       "2015-03-17   1.550003  0.019531          1  \n",
       "2015-03-18   1.839996  0.022741          1  \n",
       "2015-03-19   1.050003  0.012689          1  "
      ]
     },
     "execution_count": 21,
     "metadata": {},
     "output_type": "execute_result"
    }
   ],
   "source": [
    "fb.head()"
   ]
  },
  {
   "cell_type": "code",
   "execution_count": null,
   "metadata": {},
   "outputs": [],
   "source": []
  }
 ],
 "metadata": {
  "kernelspec": {
   "display_name": "Python 3",
   "language": "python",
   "name": "python3"
  },
  "language_info": {
   "codemirror_mode": {
    "name": "ipython",
    "version": 3
   },
   "file_extension": ".py",
   "mimetype": "text/x-python",
   "name": "python",
   "nbconvert_exporter": "python",
   "pygments_lexer": "ipython3",
   "version": "3.7.4"
  }
 },
 "nbformat": 4,
 "nbformat_minor": 2
}
