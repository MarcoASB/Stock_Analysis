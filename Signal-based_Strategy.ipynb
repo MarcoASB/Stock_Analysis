{
 "cells": [
  {
   "cell_type": "code",
   "execution_count": 6,
   "metadata": {},
   "outputs": [],
   "source": [
    "import statsmodels.formula.api as smf\n",
    "import pandas as pd\n",
    "import numpy as np\n",
    "import matplotlib.pyplot as plt\n",
    "import warnings\n",
    "warnings.filterwarnings(\"ignore\")"
   ]
  },
  {
   "cell_type": "code",
   "execution_count": 7,
   "metadata": {},
   "outputs": [
    {
     "data": {
      "text/html": [
       "<div>\n",
       "<style scoped>\n",
       "    .dataframe tbody tr th:only-of-type {\n",
       "        vertical-align: middle;\n",
       "    }\n",
       "\n",
       "    .dataframe tbody tr th {\n",
       "        vertical-align: top;\n",
       "    }\n",
       "\n",
       "    .dataframe thead th {\n",
       "        text-align: right;\n",
       "    }\n",
       "</style>\n",
       "<table border=\"1\" class=\"dataframe\">\n",
       "  <thead>\n",
       "    <tr style=\"text-align: right;\">\n",
       "      <th></th>\n",
       "      <th>spy</th>\n",
       "      <th>spy_lag1</th>\n",
       "      <th>sp500</th>\n",
       "      <th>nasdaq</th>\n",
       "      <th>dji</th>\n",
       "      <th>cac40</th>\n",
       "      <th>daxi</th>\n",
       "      <th>aord</th>\n",
       "      <th>hsi</th>\n",
       "      <th>nikkei</th>\n",
       "      <th>Price</th>\n",
       "    </tr>\n",
       "    <tr>\n",
       "      <th>Date</th>\n",
       "      <th></th>\n",
       "      <th></th>\n",
       "      <th></th>\n",
       "      <th></th>\n",
       "      <th></th>\n",
       "      <th></th>\n",
       "      <th></th>\n",
       "      <th></th>\n",
       "      <th></th>\n",
       "      <th></th>\n",
       "      <th></th>\n",
       "    </tr>\n",
       "  </thead>\n",
       "  <tbody>\n",
       "    <tr>\n",
       "      <td>2008-01-04</td>\n",
       "      <td>-1.529998</td>\n",
       "      <td>-1.570008</td>\n",
       "      <td>-3.540039</td>\n",
       "      <td>-40.879883</td>\n",
       "      <td>2.43945</td>\n",
       "      <td>5.489746</td>\n",
       "      <td>-27.990235</td>\n",
       "      <td>-2.300293</td>\n",
       "      <td>515.349609</td>\n",
       "      <td>-464.320313</td>\n",
       "      <td>143.339996</td>\n",
       "    </tr>\n",
       "    <tr>\n",
       "      <td>2008-01-07</td>\n",
       "      <td>0.270004</td>\n",
       "      <td>-1.529998</td>\n",
       "      <td>-29.940064</td>\n",
       "      <td>-56.930176</td>\n",
       "      <td>-245.40918</td>\n",
       "      <td>-111.689941</td>\n",
       "      <td>-102.709961</td>\n",
       "      <td>-27.500000</td>\n",
       "      <td>216.951171</td>\n",
       "      <td>-48.830078</td>\n",
       "      <td>141.809998</td>\n",
       "    </tr>\n",
       "    <tr>\n",
       "      <td>2008-01-08</td>\n",
       "      <td>-2.990006</td>\n",
       "      <td>0.270004</td>\n",
       "      <td>1.640015</td>\n",
       "      <td>-7.179931</td>\n",
       "      <td>19.75000</td>\n",
       "      <td>44.509766</td>\n",
       "      <td>33.680176</td>\n",
       "      <td>-33.899902</td>\n",
       "      <td>-354.060547</td>\n",
       "      <td>99.370117</td>\n",
       "      <td>142.080002</td>\n",
       "    </tr>\n",
       "    <tr>\n",
       "      <td>2008-01-09</td>\n",
       "      <td>0.589997</td>\n",
       "      <td>-2.990006</td>\n",
       "      <td>-25.459961</td>\n",
       "      <td>-63.119873</td>\n",
       "      <td>-230.69043</td>\n",
       "      <td>-17.109864</td>\n",
       "      <td>-5.270020</td>\n",
       "      <td>-12.900390</td>\n",
       "      <td>768.359375</td>\n",
       "      <td>234.450195</td>\n",
       "      <td>139.089996</td>\n",
       "    </tr>\n",
       "    <tr>\n",
       "      <td>2008-01-10</td>\n",
       "      <td>1.100006</td>\n",
       "      <td>0.589997</td>\n",
       "      <td>16.530029</td>\n",
       "      <td>8.270019</td>\n",
       "      <td>142.90039</td>\n",
       "      <td>9.140137</td>\n",
       "      <td>-40.120117</td>\n",
       "      <td>-100.200196</td>\n",
       "      <td>-195.560547</td>\n",
       "      <td>-158.209961</td>\n",
       "      <td>139.679993</td>\n",
       "    </tr>\n",
       "  </tbody>\n",
       "</table>\n",
       "</div>"
      ],
      "text/plain": [
       "                 spy  spy_lag1      sp500     nasdaq        dji       cac40  \\\n",
       "Date                                                                          \n",
       "2008-01-04 -1.529998 -1.570008  -3.540039 -40.879883    2.43945    5.489746   \n",
       "2008-01-07  0.270004 -1.529998 -29.940064 -56.930176 -245.40918 -111.689941   \n",
       "2008-01-08 -2.990006  0.270004   1.640015  -7.179931   19.75000   44.509766   \n",
       "2008-01-09  0.589997 -2.990006 -25.459961 -63.119873 -230.69043  -17.109864   \n",
       "2008-01-10  1.100006  0.589997  16.530029   8.270019  142.90039    9.140137   \n",
       "\n",
       "                  daxi        aord         hsi      nikkei       Price  \n",
       "Date                                                                    \n",
       "2008-01-04  -27.990235   -2.300293  515.349609 -464.320313  143.339996  \n",
       "2008-01-07 -102.709961  -27.500000  216.951171  -48.830078  141.809998  \n",
       "2008-01-08   33.680176  -33.899902 -354.060547   99.370117  142.080002  \n",
       "2008-01-09   -5.270020  -12.900390  768.359375  234.450195  139.089996  \n",
       "2008-01-10  -40.120117 -100.200196 -195.560547 -158.209961  139.679993  "
      ]
     },
     "execution_count": 7,
     "metadata": {},
     "output_type": "execute_result"
    }
   ],
   "source": [
    "indicepanel = pd.read_csv('data/indice/indicepanel.csv',index_col=0)\n",
    "indicepanel.head()"
   ]
  },
  {
   "cell_type": "code",
   "execution_count": 8,
   "metadata": {},
   "outputs": [],
   "source": [
    "Train = indicepanel.iloc[-2000:-1000, :]\n",
    "Test = indicepanel.iloc[-1000:, :]\n",
    "formula = 'spy~spy_lag1+sp500+nasdaq+dji+cac40+aord+daxi+nikkei+hsi'\n",
    "lm = smf.ols(formula=formula, data=Train).fit()\n",
    "Train['PredictedY'] = lm.predict(Train)\n",
    "Test['PredictedY'] = lm.predict(Test)"
   ]
  },
  {
   "cell_type": "markdown",
   "metadata": {},
   "source": [
    "## Profit of Signal-based strategy\n",
    "* If the signal is positive in Train['PredictedY'], we were long. Otherwise, we were shot. \n",
    "* Compute a position of our trading based on our predicted value of a response. \n",
    "    * Order equal to one if predicted value is positive or our prediction for price change is positive for opening today to opening tomorrow. \n",
    "    * Otherwise, order equal to negative one, which means we will sell one share if we had one share, and then short sell one share. \n",
    "* Then, we can compare the performance of this strategy, which we call the *\"signal-based strategy\"* , with a passive strategy, which we call *\"buy and hold strategy\"* (buy more shares of SPY initially and hold it for 1000 days)."
   ]
  },
  {
   "cell_type": "code",
   "execution_count": 19,
   "metadata": {},
   "outputs": [
    {
     "name": "stdout",
     "output_type": "stream",
     "text": [
      "Total profit made in Train:  214.3400950000004\n"
     ]
    }
   ],
   "source": [
    "# Train\n",
    "Train['Order'] = [1 if sig>0 else -1 for sig in Train['PredictedY']]\n",
    "Train['Profit'] = Train['spy'] * Train['Order']\n",
    "Train['Wealth'] = Train['Profit'].cumsum()\n",
    "print('Total profit made in Train: ', Train['Wealth'][-1])\n",
    "# Alternative form: \n",
    "# print('Total profit made in Train: ', Train['Profit'].sum())"
   ]
  },
  {
   "cell_type": "code",
   "execution_count": 15,
   "metadata": {},
   "outputs": [
    {
     "data": {
      "image/png": "[encoded data removed]",
      "text/plain": [
       "<Figure size 360x360 with 1 Axes>"
      ]
     },
     "metadata": {
      "needs_background": "light"
     },
     "output_type": "display_data"
    }
   ],
   "source": [
    "plt.figure(figsize=(5, 5))\n",
    "plt.title('Performance of Strategy in Train')\n",
    "plt.plot(Train['Wealth'].values, color='green', label='Signal based strategy')\n",
    "plt.plot(Train['spy'].cumsum().values, color='red', label='Buy and Hold strategy')\n",
    "plt.legend()\n",
    "plt.show()"
   ]
  },
  {
   "cell_type": "markdown",
   "metadata": {},
   "source": [
    "* We can see from the plot, signal-based strategy outperforms buy-and-hold strategy. \n",
    "* Similarly, we can view it as trading in test dataset."
   ]
  },
  {
   "cell_type": "code",
   "execution_count": 16,
   "metadata": {},
   "outputs": [
    {
     "name": "stdout",
     "output_type": "stream",
     "text": [
      "Total profit made in Test:  241.0300879999996\n"
     ]
    }
   ],
   "source": [
    "# Test\n",
    "Test['Order'] = [1 if sig>0 else -1 for sig in Test['PredictedY']]\n",
    "Test['Profit'] = Test['spy'] * Test['Order']\n",
    "Test['Wealth'] = Test['Profit'].cumsum()\n",
    "print('Total profit made in Test: ', Test['Profit'].sum())"
   ]
  },
  {
   "cell_type": "code",
   "execution_count": 18,
   "metadata": {},
   "outputs": [
    {
     "data": {
      "image/png": "[encoded data removed]",
      "text/plain": [
       "<Figure size 360x360 with 1 Axes>"
      ]
     },
     "metadata": {
      "needs_background": "light"
     },
     "output_type": "display_data"
    }
   ],
   "source": [
    "plt.figure(figsize=(5, 5))\n",
    "plt.title('Performance of Strategy in Test')\n",
    "plt.plot(Test['Wealth'].values, color='green', label='Signal based strategy')\n",
    "plt.plot(Test['spy'].cumsum().values, color='red', label='Buy and Hold strategy')\n",
    "plt.legend()\n",
    "plt.show()"
   ]
  },
  {
   "cell_type": "markdown",
   "metadata": {},
   "source": [
    "* Signal-based strategy also outperforms buy-and-hold strategy in the test data. The consistency of performance is very important. Otherwise, it is too risky to apply it in the future. \n",
    "* Average daily return is a mirror we can make comparison in finance industry when they use a Sharpe ratio and maximum drawdown."
   ]
  },
  {
   "cell_type": "markdown",
   "metadata": {},
   "source": [
    "# Evaluation of model - Practical Standard\n",
    "We introduce two common practical standards: \n",
    "* **Sharpe Ratio**: \n",
    "    * Measures excess return (or risk premium) per unit of deviation in an investment asset or trading strategy, typically referred to as risk\n",
    "* **Maximum Drawdown**:\n",
    "    * The maximum percentage decline in the strategy from the historical peak profit at each point in time"
   ]
  },
  {
   "cell_type": "code",
   "execution_count": 20,
   "metadata": {},
   "outputs": [],
   "source": [
    "Train['Wealth'] = Train['Wealth'] + Train.loc[Train.index[0], 'Price']\n",
    "Test['Wealth'] = Test['Wealth'] + Test.loc[Test.index[0], 'Price']"
   ]
  },
  {
   "cell_type": "code",
   "execution_count": 34,
   "metadata": {},
   "outputs": [
    {
     "name": "stdout",
     "output_type": "stream",
     "text": [
      "Daily Sharpe Ratio in Train Data is  0.179650763032581\n",
      "Yearly Sharpe Ratio in Train Data is  2.851867450963232\n",
      "Daily Sharpe Ratio in Test Data is  0.13035126208575035\n",
      "Yearly Sharpe Ratio in Test Data is  2.0692621353737883\n"
     ]
    }
   ],
   "source": [
    "# Sharpe Ratio on Train data\n",
    "Train['Return'] = np.log(Train['Wealth']) - np.log(Train['Wealth'].shift(1))\n",
    "dailyr_Train = Train['Return'].dropna()\n",
    "print('Daily Sharpe Ratio in Train Data is ', dailyr_Train.mean()/dailyr_Train.std(ddof=1))\n",
    "print('Yearly Sharpe Ratio in Train Data is ', (252**0.5)*dailyr_Train.mean()/dailyr_Train.std(ddof=1))\n",
    "# Sharpe Ratio in Test data\n",
    "Test['Return'] = np.log(Test['Wealth']) - np.log(Test['Wealth'].shift(1))\n",
    "dailyr_Test = Test['Return'].dropna()\n",
    "print('Daily Sharpe Ratio in Test Data is ', dailyr_Test.mean()/dailyr_Test.std(ddof=1))\n",
    "print('Yearly Sharpe Ratio in Test Data is ', (252**0.5)*dailyr_Test.mean()/dailyr_Test.std(ddof=1))"
   ]
  },
  {
   "cell_type": "code",
   "execution_count": 27,
   "metadata": {},
   "outputs": [
    {
     "name": "stdout",
     "output_type": "stream",
     "text": [
      "Maximum Drawdown in Train is  0.06069016443644382\n",
      "Maximum Drawdown in Test is  0.11719899524631659\n"
     ]
    }
   ],
   "source": [
    "# Maximum Drawdown in Train data\n",
    "Train['Peak'] = Train['Wealth'].cummax()\n",
    "Train['Drawdown'] = (Train['Peak'] - Train['Wealth'])/Train['Peak']\n",
    "print('Maximum Drawdown in Train is ', Train['Drawdown'].max())\n",
    "# Maximum Drawdown in Test data\n",
    "Test['Peak'] = Test['Wealth'].cummax()\n",
    "Test['Drawdown'] = (Test['Peak'] - Test['Wealth'])/Test['Peak']\n",
    "print('Maximum Drawdown in Test is ', Test['Drawdown'].max())"
   ]
  },
  {
   "cell_type": "markdown",
   "metadata": {},
   "source": [
    "* If we apply this strategy in test set, the maximum loss from the peak is 11%"
   ]
  },
  {
   "cell_type": "code",
   "execution_count": 40,
   "metadata": {},
   "outputs": [
    {
     "data": {
      "text/html": [
       "<div>\n",
       "<style scoped>\n",
       "    .dataframe tbody tr th:only-of-type {\n",
       "        vertical-align: middle;\n",
       "    }\n",
       "\n",
       "    .dataframe tbody tr th {\n",
       "        vertical-align: top;\n",
       "    }\n",
       "\n",
       "    .dataframe thead th {\n",
       "        text-align: right;\n",
       "    }\n",
       "</style>\n",
       "<table border=\"1\" class=\"dataframe\">\n",
       "  <thead>\n",
       "    <tr style=\"text-align: right;\">\n",
       "      <th></th>\n",
       "      <th>Train</th>\n",
       "      <th>Test</th>\n",
       "    </tr>\n",
       "    <tr>\n",
       "      <th>Category</th>\n",
       "      <th></th>\n",
       "      <th></th>\n",
       "    </tr>\n",
       "  </thead>\n",
       "  <tbody>\n",
       "    <tr>\n",
       "      <td>Daily Sharpe Ratio</td>\n",
       "      <td>0.179651</td>\n",
       "      <td>0.130351</td>\n",
       "    </tr>\n",
       "    <tr>\n",
       "      <td>Yearly Sharpe Ratio</td>\n",
       "      <td>2.851867</td>\n",
       "      <td>2.069262</td>\n",
       "    </tr>\n",
       "    <tr>\n",
       "      <td>Max Drawdown</td>\n",
       "      <td>0.060690</td>\n",
       "      <td>0.117199</td>\n",
       "    </tr>\n",
       "  </tbody>\n",
       "</table>\n",
       "</div>"
      ],
      "text/plain": [
       "                        Train      Test\n",
       "Category                               \n",
       "Daily Sharpe Ratio   0.179651  0.130351\n",
       "Yearly Sharpe Ratio  2.851867  2.069262\n",
       "Max Drawdown         0.060690  0.117199"
      ]
     },
     "execution_count": 40,
     "metadata": {},
     "output_type": "execute_result"
    }
   ],
   "source": [
    "# Collecting Data for summary\n",
    "daily_sr_train = dailyr_Train.mean()/dailyr_Train.std(ddof=1)\n",
    "yearly_sr_train = (252**0.5)*dailyr_Train.mean()/dailyr_Train.std(ddof=1)\n",
    "max_dd_train = Train['Drawdown'].max()\n",
    "daily_sr_test = dailyr_Test.mean()/dailyr_Test.std(ddof=1)\n",
    "yearly_sr_test = (252**0.5)*dailyr_Test.mean()/dailyr_Test.std(ddof=1)\n",
    "max_dd_test = Test['Drawdown'].max()\n",
    "\n",
    "# Creating a summary DataFrame using above values\n",
    "summary_df = pd.DataFrame({\n",
    "    \"Category\":['Daily Sharpe Ratio','Yearly Sharpe Ratio','Max Drawdown'],\n",
    "    \"Train\":[daily_sr_train,yearly_sr_train,max_dd_train],\n",
    "    \"Test\":[daily_sr_test,yearly_sr_test,max_dd_test]\n",
    "}).set_index('Category')\n",
    "\n",
    "summary_df"
   ]
  }
 ],
 "metadata": {
  "kernelspec": {
   "display_name": "Python 3",
   "language": "python",
   "name": "python3"
  },
  "language_info": {
   "codemirror_mode": {
    "name": "ipython",
    "version": 3
   },
   "file_extension": ".py",
   "mimetype": "text/x-python",
   "name": "python",
   "nbconvert_exporter": "python",
   "pygments_lexer": "ipython3",
   "version": "3.7.4"
  }
 },
 "nbformat": 4,
 "nbformat_minor": 2
}
